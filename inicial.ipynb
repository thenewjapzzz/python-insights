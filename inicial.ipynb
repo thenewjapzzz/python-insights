{
 "cells": [
  {
   "cell_type": "markdown",
   "metadata": {},
   "source": [
    "Python Insights: Analisando Dados\n",
    "\n",
    "- Objetivo do Projeto:\n",
    "    - Este projeto visa entender os principais fatores que levam ao cancelamento de clientes em uma empresa.\n",
    "\n",
    "\n",
    "- Desafio Identificado:\n",
    "    - A elevada taxa de inatividade representa um obstáculo significativo para o crescimento e a sustentabilidade da organização.\n",
    "\n",
    "\n",
    "- Abordagem Utilizada:\n",
    "    - Realizar análises de dados para compreender os padrões e razões dos cancelamentos.\n",
    "    - Desenvolver modelos preditivos para antecipar comportamentos de cancelamento.\n",
    "    - Elaborar recomendações estratégicas para aumentar a retenção de clientes.\n",
    "\n",
    "\n",
    "- Benefícios Esperados:\n",
    "    - Identificar os motivos dos cancelamentos e agir de forma proativa.\n",
    "    - Otimizar a experiência do cliente.\n",
    "    - Reduzir perdas financeiras associadas à inatividade.\n",
    "    - Melhorar os resultados gerais da empresa de forma sustentável"
   ]
  },
  {
   "cell_type": "code",
   "execution_count": null,
   "metadata": {},
   "outputs": [],
   "source": [
    "#pip install pandas numpy openpyxl nbformat ipykernel plotly\n",
    "\n",
    "# Passo 1: Importar base de dados\n",
    "import pandas as pd\n",
    "\n",
    "tabela = pd.read_csv(\"cancelamentos_sample.csv\")\n",
    "\n",
    "# Passo 2: visualizar a base de dados\n",
    "tabela = tabela.drop(columns=\"CustomerID\") # tira coluna \"CustomerID\"\n",
    "\n",
    "display(tabela)\n"
   ]
  },
  {
   "cell_type": "code",
   "execution_count": null,
   "metadata": {},
   "outputs": [],
   "source": [
    "# Passo 3: Corrigir os problemas da base de dados (tratamento de dados)\n",
    "# valores vazios\n",
    "# tirar colunas que atrapalham\n",
    "\n",
    "display(tabela.info())\n",
    "\n",
    "tabela = tabela.dropna() # NaN -> Not a number: valores vazios\n",
    "\n",
    "display(tabela.info())\n"
   ]
  },
  {
   "cell_type": "code",
   "execution_count": null,
   "metadata": {},
   "outputs": [],
   "source": [
    "# Passo 4: Análise inicial: quantos clientes cancelaram e % dos clientes\n",
    "\n",
    "# quantidade em número\n",
    "display(tabela[\"cancelou\"].value_counts()) \n",
    "\n",
    "# percentual\n",
    "display(tabela[\"cancelou\"].value_counts(normalize=True))\n"
   ]
  },
  {
   "cell_type": "code",
   "execution_count": 25,
   "metadata": {},
   "outputs": [],
   "source": [
    "# Passo 5: Análise da causa de cancelamento dos clientes\n",
    "# (comparar as outras colunas da tabela com a coluna de cancelamento)\n",
    "\n",
    "import plotly.express as px\n",
    "\n",
    "for coluna in tabela.columns:\n",
    "    grafico = px.histogram(tabela, x=coluna, color=\"cancelou\", text_auto=True)\n",
    "\n",
    "    grafico.show()"
   ]
  },
  {
   "cell_type": "code",
   "execution_count": null,
   "metadata": {},
   "outputs": [],
   "source": [
    "# usuários do contrato mensal sempre cancelam\n",
    "\n",
    "# todos os usuários que ligaram mais de 4x para o call center, cancelaram\n",
    "\n",
    "# usuários que atrasaram pagamento mais de 20 dias, cancelaram\n",
    "\n",
    "# duracao_contrato -> diferente de mensal\n",
    "tabela = tabela[tabela[\"duracao_contrato\"] != \"Monthly\"]\n",
    "\n",
    "# ligações call center -> menor ou igual a 4\n",
    "tabela = tabela[tabela[\"ligacoes_callcenter\"] <= 4]\n",
    "\n",
    "# atraso no pagamento -> menor igual 20 dias\n",
    "tabela = tabela[tabela[\"dias_atraso\"] <= 20]\n",
    "\n",
    "# Resultados após tirar aqueles que tiveram mais cancelamentos\n",
    "# e que impactariam diretamente em uma pesquisa\n",
    "display(tabela[\"cancelou\"].value_counts())\n",
    "\n",
    "display(tabela[\"cancelou\"].value_counts(normalize=True))\n",
    "\n"
   ]
  }
 ],
 "metadata": {
  "kernelspec": {
   "display_name": "Python 3",
   "language": "python",
   "name": "python3"
  },
  "language_info": {
   "codemirror_mode": {
    "name": "ipython",
    "version": 3
   },
   "file_extension": ".py",
   "mimetype": "text/x-python",
   "name": "python",
   "nbconvert_exporter": "python",
   "pygments_lexer": "ipython3",
   "version": "3.11.5"
  },
  "orig_nbformat": 4
 },
 "nbformat": 4,
 "nbformat_minor": 2
}
